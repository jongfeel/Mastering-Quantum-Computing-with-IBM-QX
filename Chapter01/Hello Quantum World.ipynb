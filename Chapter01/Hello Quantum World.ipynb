{
 "cells": [
  {
   "cell_type": "code",
   "execution_count": 1,
   "metadata": {},
   "outputs": [],
   "source": [
    "%matplotlib inline\n",
    "import qiskit"
   ]
  },
  {
   "cell_type": "markdown",
   "metadata": {},
   "source": [
    "# Put in your API Token and Register"
   ]
  },
  {
   "cell_type": "code",
   "execution_count": 2,
   "metadata": {},
   "outputs": [
    {
     "name": "stderr",
     "output_type": "stream",
     "text": [
      "c:\\users\\kjp10\\onedrive\\documents\\github\\mastering-quantum-computing-with-ibm-qx\\book\\lib\\site-packages\\qiskit\\providers\\ibmq\\ibmqfactory.py:109: UserWarning: Timestamps in IBMQ backend properties, jobs, and job results are all now in local time instead of UTC.\n",
      "  warnings.warn('Timestamps in IBMQ backend properties, jobs, and job results '\n"
     ]
    },
    {
     "data": {
      "text/plain": [
       "<AccountProvider for IBMQ(hub='ibm-q', group='open', project='main')>"
      ]
     },
     "execution_count": 2,
     "metadata": {},
     "output_type": "execute_result"
    }
   ],
   "source": [
    "from qiskit import IBMQ\n",
    "# Authenticate an account and add for use during this session. Replace string argument with your private token.\n",
    "IBMQ.enable_account(\"INSERT_YOUR_API_TOKEN_HERE\")\n",
    "# To store your credentials locally you can run:\n",
    "#IBMQ.save_account(\"INSERT_YOUR_API_TOKEN_HERE\")"
   ]
  },
  {
   "cell_type": "markdown",
   "metadata": {},
   "source": [
    "# List the available backends and pick one"
   ]
  },
  {
   "cell_type": "code",
   "execution_count": 4,
   "metadata": {},
   "outputs": [
    {
     "name": "stdout",
     "output_type": "stream",
     "text": [
      "ibmq_qasm_simulator\n",
      "[QasmSimulator(\n",
      "backend_name='qasm_simulator', provider=AerProvider()), StatevectorSimulator(\n",
      "backend_name='statevector_simulator', provider=AerProvider()), UnitarySimulator(\n",
      "backend_name='unitary_simulator', provider=AerProvider()), PulseSimulator(\n",
      "backend_name='pulse_simulator', provider=AerProvider())]\n"
     ]
    }
   ],
   "source": [
    "# Origin\n",
    "# print(IBMQ.backends()) # remote IBM backends\n",
    "\n",
    "# Fixed\n",
    "# https://quantumcomputing.stackexchange.com/questions/9161/how-to-fix-an-error-attributeerror-ibmqfactory-object-has-no-attribute-get\n",
    "provider = IBMQ.get_provider()\n",
    "backend  = provider.get_backend('ibmq_qasm_simulator')\n",
    "print(backend)\n",
    "\n",
    "from qiskit import Aer\n",
    "print(Aer.backends()) # local backends"
   ]
  },
  {
   "cell_type": "code",
   "execution_count": 5,
   "metadata": {},
   "outputs": [],
   "source": [
    "# Pick an available backend\n",
    "# backend = IBMQ.get_backend('ibmq_qasm_simulator') # if this isn't available pick a backend whose name containes '_qasm_simulator' from the output above"
   ]
  },
  {
   "cell_type": "markdown",
   "metadata": {},
   "source": [
    "# Run your first quantum program\n",
    "This program starts with an input of the quantum equivalent of five \"0\" bits, five quantum \"0\" bits. It then performs no action before it outputs the classical equivalent of the quantum bits. Since they haven't changed, the output should be 00000."
   ]
  },
  {
   "cell_type": "code",
   "execution_count": 6,
   "metadata": {},
   "outputs": [
    {
     "name": "stdout",
     "output_type": "stream",
     "text": [
      "done\n"
     ]
    }
   ],
   "source": [
    "import time\n",
    "q = qiskit.QuantumRegister(5)\n",
    "c = qiskit.ClassicalRegister(5)\n",
    "qc = qiskit.QuantumCircuit(q, c)\n",
    "qc.measure(q, c)\n",
    "job_exp = qiskit.execute(qc, backend=backend)\n",
    "\n",
    "print(\"done\")"
   ]
  },
  {
   "cell_type": "markdown",
   "metadata": {},
   "source": [
    "# Seeing the results\n",
    "Here we will get output 00000 with 100% probability as our output"
   ]
  },
  {
   "cell_type": "code",
   "execution_count": 7,
   "metadata": {
    "scrolled": true
   },
   "outputs": [
    {
     "data": {
      "image/png": "[encoded data removed]",
      "text/plain": [
       "<Figure size 504x360 with 1 Axes>"
      ]
     },
     "execution_count": 7,
     "metadata": {},
     "output_type": "execute_result"
    }
   ],
   "source": [
    "from qiskit.tools.visualization import plot_histogram\n",
    "plot_histogram(job_exp.result().get_counts(qc))"
   ]
  },
  {
   "cell_type": "code",
   "execution_count": 8,
   "metadata": {
    "scrolled": false
   },
   "outputs": [
    {
     "name": "stdout",
     "output_type": "stream",
     "text": [
      "???\n"
     ]
    }
   ],
   "source": []
  }
 ],
 "metadata": {
  "kernelspec": {
   "display_name": "bookkernel",
   "language": "python",
   "name": "bookkernel"
  },
  "language_info": {
   "codemirror_mode": {
    "name": "ipython",
    "version": 3
   },
   "file_extension": ".py",
   "mimetype": "text/x-python",
   "name": "python",
   "nbconvert_exporter": "python",
   "pygments_lexer": "ipython3",
   "version": "3.8.5"
  }
 },
 "nbformat": 4,
 "nbformat_minor": 2
}
